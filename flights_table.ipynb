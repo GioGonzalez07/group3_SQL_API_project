{
 "cells": [
  {
   "cell_type": "markdown",
   "metadata": {},
   "source": [
    "### CANCELLATION CODE OVERVIEW\n",
    "- unique values: 'A', 'C', 'B', 'D', 'NaN'\n",
    "- Code A: This typically indicates that the flight was canceled due to aircraft mechanical issues or maintenance problems.\n",
    "- Code B: This code is often used to indicate that the flight was canceled due to weather conditions. This could include adverse weather at the departure or destination airport, along the route of flight, or at alternate airports.\n",
    "- Code C: This code may indicate that the flight was canceled due to air traffic control issues, such as airspace restrictions, traffic flow management, or other operational reasons.\n",
    "- Code D: This code might indicate that the flight was canceled at the pilot's request or due to personal reasons, such as illness, scheduling conflicts, or changes in plans."
   ]
  },
  {
   "cell_type": "code",
   "execution_count": null,
   "metadata": {},
   "outputs": [],
   "source": [
    "from sql_functions import push_to_cloud\n",
    "from sql_functions import create_table"
   ]
  },
  {
   "cell_type": "code",
   "execution_count": null,
   "metadata": {},
   "outputs": [],
   "source": [
    "flight_2015 = create_table(2015)\n",
    "flight_2016 = create_table(2016)\n",
    "flight_2017 = create_table(2017)"
   ]
  },
  {
   "cell_type": "code",
   "execution_count": null,
   "metadata": {},
   "outputs": [],
   "source": [
    "# Push 2015 table\n",
    "push_to_cloud(flight_2015, 2015)"
   ]
  },
  {
   "cell_type": "code",
   "execution_count": null,
   "metadata": {},
   "outputs": [],
   "source": [
    "# Push 2016 table\n",
    "push_to_cloud(flight_2016, 2016)"
   ]
  },
  {
   "cell_type": "code",
   "execution_count": null,
   "metadata": {},
   "outputs": [],
   "source": [
    "# Push 2017 table\n",
    "push_to_cloud(flight_2017, 2017)"
   ]
  }
 ],
 "metadata": {
  "kernelspec": {
   "display_name": "nf_sql",
   "language": "python",
   "name": "python3"
  },
  "language_info": {
   "codemirror_mode": {
    "name": "ipython",
    "version": 3
   },
   "file_extension": ".py",
   "mimetype": "text/x-python",
   "name": "python",
   "nbconvert_exporter": "python",
   "pygments_lexer": "ipython3",
   "version": "3.9.7"
  }
 },
 "nbformat": 4,
 "nbformat_minor": 2
}
