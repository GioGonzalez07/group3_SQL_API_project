{
 "cells": [
  {
   "cell_type": "code",
   "execution_count": 1,
   "metadata": {},
   "outputs": [],
   "source": [
    "import requests"
   ]
  },
  {
   "cell_type": "code",
   "execution_count": 2,
   "metadata": {},
   "outputs": [
    {
     "data": {
      "text/plain": [
       "True"
      ]
     },
     "execution_count": 2,
     "metadata": {},
     "output_type": "execute_result"
    }
   ],
   "source": [
    "# To be able to pull the API key from the .env,\n",
    "# we need to import and run the load_dotenv function from the dotenv module first.\n",
    "\n",
    "from dotenv import load_dotenv\n",
    "load_dotenv()"
   ]
  },
  {
   "cell_type": "code",
   "execution_count": 3,
   "metadata": {},
   "outputs": [],
   "source": [
    "# The OS module in Python provides functions for interacting with the operating system\n",
    "import os"
   ]
  },
  {
   "cell_type": "code",
   "execution_count": 10,
   "metadata": {},
   "outputs": [
    {
     "name": "stdout",
     "output_type": "stream",
     "text": [
      "{'meta': {'generated': '2024-05-01 16:24:51'}, 'data': [{'time': '2020-01-01 00:00:00', 'temp': 0.3, 'dwpt': -1.5, 'rhum': 88.0, 'prcp': 0.0, 'snow': None, 'wdir': 40.0, 'wspd': 8.6, 'wpgt': 13.0, 'pres': 1036.9, 'tsun': 0, 'coco': 3}, {'time': '2020-01-01 01:00:00', 'temp': 0.0, 'dwpt': -1.4, 'rhum': 90.0, 'prcp': 0.0, 'snow': 0.0, 'wdir': 40.0, 'wspd': 9.7, 'wpgt': 15.0, 'pres': 1036.5, 'tsun': 0, 'coco': 3}, {'time': '2020-01-01 02:00:00', 'temp': 0.1, 'dwpt': -1.3, 'rhum': 90.0, 'prcp': 0.0, 'snow': None, 'wdir': 20.0, 'wspd': 10.1, 'wpgt': 15.0, 'pres': 1036.3, 'tsun': 0, 'coco': 5}, {'time': '2020-01-01 03:00:00', 'temp': -1.1, 'dwpt': -2.2, 'rhum': 92.0, 'prcp': 0.0, 'snow': None, 'wdir': 70.0, 'wspd': 7.9, 'wpgt': 13.0, 'pres': 1036.2, 'tsun': 0, 'coco': 2}, {'time': '2020-01-01 04:00:00', 'temp': -0.4, 'dwpt': -1.4, 'rhum': 93.0, 'prcp': 0.0, 'snow': None, 'wdir': 80.0, 'wspd': 5.8, 'wpgt': 11.0, 'pres': 1035.7, 'tsun': 0, 'coco': 3}, {'time': '2020-01-01 05:00:00', 'temp': 0.2, 'dwpt': -1.2, 'rhum': 90.0, 'prcp': 0.0, 'snow': None, 'wdir': 50.0, 'wspd': 7.2, 'wpgt': 11.0, 'pres': 1035.4, 'tsun': 0, 'coco': 3}, {'time': '2020-01-01 06:00:00', 'temp': -1.5, 'dwpt': -2.8, 'rhum': 91.0, 'prcp': 0.0, 'snow': None, 'wdir': 50.0, 'wspd': 8.3, 'wpgt': 13.0, 'pres': 1035.2, 'tsun': 0, 'coco': 2}, {'time': '2020-01-01 07:00:00', 'temp': -1.2, 'dwpt': -2.3, 'rhum': 92.0, 'prcp': 0.0, 'snow': 0.0, 'wdir': 50.0, 'wspd': 9.7, 'wpgt': 15.0, 'pres': 1035.2, 'tsun': 0, 'coco': 1}, {'time': '2020-01-01 08:00:00', 'temp': -1.4, 'dwpt': -2.5, 'rhum': 92.0, 'prcp': 0.0, 'snow': None, 'wdir': 10.0, 'wspd': 10.4, 'wpgt': 15.0, 'pres': 1035.4, 'tsun': 0, 'coco': 1}, {'time': '2020-01-01 09:00:00', 'temp': -1.2, 'dwpt': -2.5, 'rhum': 91.0, 'prcp': 0.0, 'snow': None, 'wdir': 30.0, 'wspd': 11.2, 'wpgt': 18.0, 'pres': 1035.8, 'tsun': 0, 'coco': 2}, {'time': '2020-01-01 10:00:00', 'temp': -0.5, 'dwpt': -2.4, 'rhum': 87.0, 'prcp': 0.0, 'snow': None, 'wdir': 30.0, 'wspd': 10.8, 'wpgt': 17.0, 'pres': 1036.1, 'tsun': 53, 'coco': 2}, {'time': '2020-01-01 11:00:00', 'temp': 0.6, 'dwpt': -2.1, 'rhum': 82.0, 'prcp': 0.0, 'snow': None, 'wdir': 20.0, 'wspd': 12.2, 'wpgt': 21.0, 'pres': 1036.0, 'tsun': 60, 'coco': 2}, {'time': '2020-01-01 12:00:00', 'temp': 2.4, 'dwpt': -1.2, 'rhum': 77.0, 'prcp': 0.0, 'snow': None, 'wdir': 40.0, 'wspd': 11.2, 'wpgt': 18.0, 'pres': 1035.3, 'tsun': 60, 'coco': 2}, {'time': '2020-01-01 13:00:00', 'temp': 3.5, 'dwpt': -0.9, 'rhum': 73.0, 'prcp': 0.0, 'snow': 0.0, 'wdir': 60.0, 'wspd': 14.8, 'wpgt': 22.0, 'pres': 1034.6, 'tsun': 60, 'coco': 1}, {'time': '2020-01-01 14:00:00', 'temp': 3.9, 'dwpt': -0.9, 'rhum': 71.0, 'prcp': 0.0, 'snow': None, 'wdir': 70.0, 'wspd': 13.7, 'wpgt': 21.0, 'pres': 1033.7, 'tsun': 60, 'coco': 1}, {'time': '2020-01-01 15:00:00', 'temp': 4.3, 'dwpt': -0.9, 'rhum': 69.0, 'prcp': 0.0, 'snow': None, 'wdir': 70.0, 'wspd': 14.0, 'wpgt': 22.0, 'pres': 1033.5, 'tsun': 60, 'coco': 1}, {'time': '2020-01-01 16:00:00', 'temp': 3.6, 'dwpt': -0.6, 'rhum': 74.0, 'prcp': 0.0, 'snow': None, 'wdir': 50.0, 'wspd': 11.2, 'wpgt': 18.0, 'pres': 1033.6, 'tsun': 60, 'coco': 1}, {'time': '2020-01-01 17:00:00', 'temp': 2.2, 'dwpt': -0.7, 'rhum': 81.0, 'prcp': 0.0, 'snow': None, 'wdir': 40.0, 'wspd': 8.3, 'wpgt': 15.0, 'pres': 1033.4, 'tsun': 22, 'coco': 1}, {'time': '2020-01-01 18:00:00', 'temp': 1.4, 'dwpt': -0.8, 'rhum': 85.0, 'prcp': 0.0, 'snow': None, 'wdir': 60.0, 'wspd': 5.8, 'wpgt': 11.0, 'pres': 1033.5, 'tsun': 0, 'coco': 1}, {'time': '2020-01-01 19:00:00', 'temp': 0.2, 'dwpt': -1.7, 'rhum': 87.0, 'prcp': 0.0, 'snow': 0.0, 'wdir': 60.0, 'wspd': 12.6, 'wpgt': 18.0, 'pres': 1033.4, 'tsun': 0, 'coco': 1}, {'time': '2020-01-01 20:00:00', 'temp': -0.6, 'dwpt': -2.5, 'rhum': 87.0, 'prcp': 0.0, 'snow': None, 'wdir': 60.0, 'wspd': 14.0, 'wpgt': 22.0, 'pres': 1033.8, 'tsun': 0, 'coco': 1}, {'time': '2020-01-01 21:00:00', 'temp': -1.2, 'dwpt': -2.8, 'rhum': 89.0, 'prcp': 0.0, 'snow': None, 'wdir': 50.0, 'wspd': 8.3, 'wpgt': 11.0, 'pres': 1033.7, 'tsun': 0, 'coco': 1}, {'time': '2020-01-01 22:00:00', 'temp': -1.1, 'dwpt': -2.2, 'rhum': 92.0, 'prcp': 0.0, 'snow': None, 'wdir': 60.0, 'wspd': 7.6, 'wpgt': 13.0, 'pres': 1033.1, 'tsun': 0, 'coco': 1}, {'time': '2020-01-01 23:00:00', 'temp': -1.1, 'dwpt': -2.1, 'rhum': 93.0, 'prcp': 0.0, 'snow': None, 'wdir': 20.0, 'wspd': 8.6, 'wpgt': 18.0, 'pres': 1032.8, 'tsun': 0, 'coco': 1}]}\n"
     ]
    }
   ],
   "source": [
    "url_hourly = \"https://meteostat.p.rapidapi.com/stations/hourly\"\n",
    "\n",
    "# querystring has to be changed to the right cities!!\n",
    "querystring = {\"station\":\"10637\",\"start\":\"2020-01-01\",\"end\":\"2020-01-01\",\"tz\":\"Europe/Berlin\"}\n",
    "\n",
    "headers = {\n",
    "\t\"X-RapidAPI-Key\": os.getenv('api_key'),\n",
    "\t\"X-RapidAPI-Host\": \"meteostat.p.rapidapi.com\"\n",
    "    }\n",
    "\n",
    "response_hourly = requests.get(url_hourly, headers=headers, params=querystring)\n",
    "weather_hourly = response_hourly.json()\n",
    "\n",
    "print(response_hourly.json())"
   ]
  },
  {
   "cell_type": "code",
   "execution_count": 12,
   "metadata": {},
   "outputs": [
    {
     "data": {
      "text/plain": [
       "'{\\n   \"meta\": {\\n      \"generated\": \"2024-05-01 16:24:51\"\\n   },\\n   \"data\": [\\n      {\\n         \"time\": \"2020-01-01 00:00:00\",\\n         \"temp\": 0.3,\\n         \"dwpt\": -1.5,\\n         \"rhum\": 88.0,\\n         \"prcp\": 0.0,\\n         \"snow\": null,\\n         \"wdir\": 40.0,\\n         \"wspd\": 8.6,\\n         \"wpgt\": 13.0,\\n         \"pres\": 1036.9,\\n         \"tsun\": 0,\\n         \"coco\": 3\\n      },\\n      {\\n         \"time\": \"2020-01-01 01:00:00\",\\n         \"temp\": 0.0,\\n         \"dwpt\": -1.4,\\n         \"rhum\": 90.0,\\n         \"prcp\": 0.0,\\n         \"snow\": 0.0,\\n         \"wdir\": 40.0,\\n         \"wspd\": 9.7,\\n         \"wpgt\": 15.0,\\n         \"pres\": 1036.5,\\n         \"tsun\": 0,\\n         \"coco\": 3\\n      },\\n      {\\n         \"time\": \"2020-01-01 02:00:00\",\\n         \"temp\": 0.1,\\n         \"dwpt\": -1.3,\\n         \"rhum\": 90.0,\\n         \"prcp\": 0.0,\\n         \"snow\": null,\\n         \"wdir\": 20.0,\\n         \"wspd\": 10.1,\\n         \"wpgt\": 15.0,\\n         \"pres\": 1036.3,\\n         \"tsun\": 0,\\n         \"coco\": 5\\n      },\\n      {\\n         \"time\": \"2020-01-01 03:00:00\",\\n         \"temp\": -1.1,\\n         \"dwpt\": -2.2,\\n         \"rhum\": 92.0,\\n         \"prcp\": 0.0,\\n         \"snow\": null,\\n         \"wdir\": 70.0,\\n         \"wspd\": 7.9,\\n         \"wpgt\": 13.0,\\n         \"pres\": 1036.2,\\n         \"tsun\": 0,\\n         \"coco\": 2\\n      },\\n      {\\n         \"time\": \"2020-01-01 04:00:00\",\\n         \"temp\": -0.4,\\n         \"dwpt\": -1.4,\\n         \"rhum\": 93.0,\\n         \"prcp\": 0.0,\\n         \"snow\": null,\\n         \"wdir\": 80.0,\\n         \"wspd\": 5.8,\\n         \"wpgt\": 11.0,\\n         \"pres\": 1035.7,\\n         \"tsun\": 0,\\n         \"coco\": 3\\n      },\\n      {\\n         \"time\": \"2020-01-01 05:00:00\",\\n         \"temp\": 0.2,\\n         \"dwpt\": -1.2,\\n         \"rhum\": 90.0,\\n         \"prcp\": 0.0,\\n         \"snow\": null,\\n         \"wdir\": 50.0,\\n         \"wspd\": 7.2,\\n         \"wpgt\": 11.0,\\n         \"pres\": 1035.4,\\n         \"tsun\": 0,\\n         \"coco\": 3\\n      },\\n      {\\n         \"time\": \"2020-01-01 06:00:00\",\\n         \"temp\": -1.5,\\n         \"dwpt\": -2.8,\\n         \"rhum\": 91.0,\\n         \"prcp\": 0.0,\\n         \"snow\": null,\\n         \"wdir\": 50.0,\\n         \"wspd\": 8.3,\\n         \"wpgt\": 13.0,\\n         \"pres\": 1035.2,\\n         \"tsun\": 0,\\n         \"coco\": 2\\n      },\\n      {\\n         \"time\": \"2020-01-01 07:00:00\",\\n         \"temp\": -1.2,\\n         \"dwpt\": -2.3,\\n         \"rhum\": 92.0,\\n         \"prcp\": 0.0,\\n         \"snow\": 0.0,\\n         \"wdir\": 50.0,\\n         \"wspd\": 9.7,\\n         \"wpgt\": 15.0,\\n         \"pres\": 1035.2,\\n         \"tsun\": 0,\\n         \"coco\": 1\\n      },\\n      {\\n         \"time\": \"2020-01-01 08:00:00\",\\n         \"temp\": -1.4,\\n         \"dwpt\": -2.5,\\n         \"rhum\": 92.0,\\n         \"prcp\": 0.0,\\n         \"snow\": null,\\n         \"wdir\": 10.0,\\n         \"wspd\": 10.4,\\n         \"wpgt\": 15.0,\\n         \"pres\": 1035.4,\\n         \"tsun\": 0,\\n         \"coco\": 1\\n      },\\n      {\\n         \"time\": \"2020-01-01 09:00:00\",\\n         \"temp\": -1.2,\\n         \"dwpt\": -2.5,\\n         \"rhum\": 91.0,\\n         \"prcp\": 0.0,\\n         \"snow\": null,\\n         \"wdir\": 30.0,\\n         \"wspd\": 11.2,\\n         \"wpgt\": 18.0,\\n         \"pres\": 1035.8,\\n         \"tsun\": 0,\\n         \"coco\": 2\\n      },\\n      {\\n         \"time\": \"2020-01-01 10:00:00\",\\n         \"temp\": -0.5,\\n         \"dwpt\": -2.4,\\n         \"rhum\": 87.0,\\n         \"prcp\": 0.0,\\n         \"snow\": null,\\n         \"wdir\": 30.0,\\n         \"wspd\": 10.8,\\n         \"wpgt\": 17.0,\\n         \"pres\": 1036.1,\\n         \"tsun\": 53,\\n         \"coco\": 2\\n      },\\n      {\\n         \"time\": \"2020-01-01 11:00:00\",\\n         \"temp\": 0.6,\\n         \"dwpt\": -2.1,\\n         \"rhum\": 82.0,\\n         \"prcp\": 0.0,\\n         \"snow\": null,\\n         \"wdir\": 20.0,\\n         \"wspd\": 12.2,\\n         \"wpgt\": 21.0,\\n         \"pres\": 1036.0,\\n         \"tsun\": 60,\\n         \"coco\": 2\\n      },\\n      {\\n         \"time\": \"2020-01-01 12:00:00\",\\n         \"temp\": 2.4,\\n         \"dwpt\": -1.2,\\n         \"rhum\": 77.0,\\n         \"prcp\": 0.0,\\n         \"snow\": null,\\n         \"wdir\": 40.0,\\n         \"wspd\": 11.2,\\n         \"wpgt\": 18.0,\\n         \"pres\": 1035.3,\\n         \"tsun\": 60,\\n         \"coco\": 2\\n      },\\n      {\\n         \"time\": \"2020-01-01 13:00:00\",\\n         \"temp\": 3.5,\\n         \"dwpt\": -0.9,\\n         \"rhum\": 73.0,\\n         \"prcp\": 0.0,\\n         \"snow\": 0.0,\\n         \"wdir\": 60.0,\\n         \"wspd\": 14.8,\\n         \"wpgt\": 22.0,\\n         \"pres\": 1034.6,\\n         \"tsun\": 60,\\n         \"coco\": 1\\n      },\\n      {\\n         \"time\": \"2020-01-01 14:00:00\",\\n         \"temp\": 3.9,\\n         \"dwpt\": -0.9,\\n         \"rhum\": 71.0,\\n         \"prcp\": 0.0,\\n         \"snow\": null,\\n         \"wdir\": 70.0,\\n         \"wspd\": 13.7,\\n         \"wpgt\": 21.0,\\n         \"pres\": 1033.7,\\n         \"tsun\": 60,\\n         \"coco\": 1\\n      },\\n      {\\n         \"time\": \"2020-01-01 15:00:00\",\\n         \"temp\": 4.3,\\n         \"dwpt\": -0.9,\\n         \"rhum\": 69.0,\\n         \"prcp\": 0.0,\\n         \"snow\": null,\\n         \"wdir\": 70.0,\\n         \"wspd\": 14.0,\\n         \"wpgt\": 22.0,\\n         \"pres\": 1033.5,\\n         \"tsun\": 60,\\n         \"coco\": 1\\n      },\\n      {\\n         \"time\": \"2020-01-01 16:00:00\",\\n         \"temp\": 3.6,\\n         \"dwpt\": -0.6,\\n         \"rhum\": 74.0,\\n         \"prcp\": 0.0,\\n         \"snow\": null,\\n         \"wdir\": 50.0,\\n         \"wspd\": 11.2,\\n         \"wpgt\": 18.0,\\n         \"pres\": 1033.6,\\n         \"tsun\": 60,\\n         \"coco\": 1\\n      },\\n      {\\n         \"time\": \"2020-01-01 17:00:00\",\\n         \"temp\": 2.2,\\n         \"dwpt\": -0.7,\\n         \"rhum\": 81.0,\\n         \"prcp\": 0.0,\\n         \"snow\": null,\\n         \"wdir\": 40.0,\\n         \"wspd\": 8.3,\\n         \"wpgt\": 15.0,\\n         \"pres\": 1033.4,\\n         \"tsun\": 22,\\n         \"coco\": 1\\n      },\\n      {\\n         \"time\": \"2020-01-01 18:00:00\",\\n         \"temp\": 1.4,\\n         \"dwpt\": -0.8,\\n         \"rhum\": 85.0,\\n         \"prcp\": 0.0,\\n         \"snow\": null,\\n         \"wdir\": 60.0,\\n         \"wspd\": 5.8,\\n         \"wpgt\": 11.0,\\n         \"pres\": 1033.5,\\n         \"tsun\": 0,\\n         \"coco\": 1\\n      },\\n      {\\n         \"time\": \"2020-01-01 19:00:00\",\\n         \"temp\": 0.2,\\n         \"dwpt\": -1.7,\\n         \"rhum\": 87.0,\\n         \"prcp\": 0.0,\\n         \"snow\": 0.0,\\n         \"wdir\": 60.0,\\n         \"wspd\": 12.6,\\n         \"wpgt\": 18.0,\\n         \"pres\": 1033.4,\\n         \"tsun\": 0,\\n         \"coco\": 1\\n      },\\n      {\\n         \"time\": \"2020-01-01 20:00:00\",\\n         \"temp\": -0.6,\\n         \"dwpt\": -2.5,\\n         \"rhum\": 87.0,\\n         \"prcp\": 0.0,\\n         \"snow\": null,\\n         \"wdir\": 60.0,\\n         \"wspd\": 14.0,\\n         \"wpgt\": 22.0,\\n         \"pres\": 1033.8,\\n         \"tsun\": 0,\\n         \"coco\": 1\\n      },\\n      {\\n         \"time\": \"2020-01-01 21:00:00\",\\n         \"temp\": -1.2,\\n         \"dwpt\": -2.8,\\n         \"rhum\": 89.0,\\n         \"prcp\": 0.0,\\n         \"snow\": null,\\n         \"wdir\": 50.0,\\n         \"wspd\": 8.3,\\n         \"wpgt\": 11.0,\\n         \"pres\": 1033.7,\\n         \"tsun\": 0,\\n         \"coco\": 1\\n      },\\n      {\\n         \"time\": \"2020-01-01 22:00:00\",\\n         \"temp\": -1.1,\\n         \"dwpt\": -2.2,\\n         \"rhum\": 92.0,\\n         \"prcp\": 0.0,\\n         \"snow\": null,\\n         \"wdir\": 60.0,\\n         \"wspd\": 7.6,\\n         \"wpgt\": 13.0,\\n         \"pres\": 1033.1,\\n         \"tsun\": 0,\\n         \"coco\": 1\\n      },\\n      {\\n         \"time\": \"2020-01-01 23:00:00\",\\n         \"temp\": -1.1,\\n         \"dwpt\": -2.1,\\n         \"rhum\": 93.0,\\n         \"prcp\": 0.0,\\n         \"snow\": null,\\n         \"wdir\": 20.0,\\n         \"wspd\": 8.6,\\n         \"wpgt\": 18.0,\\n         \"pres\": 1032.8,\\n         \"tsun\": 0,\\n         \"coco\": 1\\n      }\\n   ]\\n}'"
      ]
     },
     "execution_count": 12,
     "metadata": {},
     "output_type": "execute_result"
    }
   ],
   "source": [
    "# Import json package\n",
    "import json\n",
    "\n",
    "# Create json object: json_object\n",
    "json_object = json.loads(response_hourly.content)\n",
    "\n",
    "# Print json_object\n",
    "json.dumps(json_object, indent = 3)"
   ]
  },
  {
   "cell_type": "code",
   "execution_count": 13,
   "metadata": {},
   "outputs": [
    {
     "name": "stdout",
     "output_type": "stream",
     "text": [
      "meta: {'generated': '2024-05-01 16:24:51'}\n",
      "data: [{'time': '2020-01-01 00:00:00', 'temp': 0.3, 'dwpt': -1.5, 'rhum': 88.0, 'prcp': 0.0, 'snow': None, 'wdir': 40.0, 'wspd': 8.6, 'wpgt': 13.0, 'pres': 1036.9, 'tsun': 0, 'coco': 3}, {'time': '2020-01-01 01:00:00', 'temp': 0.0, 'dwpt': -1.4, 'rhum': 90.0, 'prcp': 0.0, 'snow': 0.0, 'wdir': 40.0, 'wspd': 9.7, 'wpgt': 15.0, 'pres': 1036.5, 'tsun': 0, 'coco': 3}, {'time': '2020-01-01 02:00:00', 'temp': 0.1, 'dwpt': -1.3, 'rhum': 90.0, 'prcp': 0.0, 'snow': None, 'wdir': 20.0, 'wspd': 10.1, 'wpgt': 15.0, 'pres': 1036.3, 'tsun': 0, 'coco': 5}, {'time': '2020-01-01 03:00:00', 'temp': -1.1, 'dwpt': -2.2, 'rhum': 92.0, 'prcp': 0.0, 'snow': None, 'wdir': 70.0, 'wspd': 7.9, 'wpgt': 13.0, 'pres': 1036.2, 'tsun': 0, 'coco': 2}, {'time': '2020-01-01 04:00:00', 'temp': -0.4, 'dwpt': -1.4, 'rhum': 93.0, 'prcp': 0.0, 'snow': None, 'wdir': 80.0, 'wspd': 5.8, 'wpgt': 11.0, 'pres': 1035.7, 'tsun': 0, 'coco': 3}, {'time': '2020-01-01 05:00:00', 'temp': 0.2, 'dwpt': -1.2, 'rhum': 90.0, 'prcp': 0.0, 'snow': None, 'wdir': 50.0, 'wspd': 7.2, 'wpgt': 11.0, 'pres': 1035.4, 'tsun': 0, 'coco': 3}, {'time': '2020-01-01 06:00:00', 'temp': -1.5, 'dwpt': -2.8, 'rhum': 91.0, 'prcp': 0.0, 'snow': None, 'wdir': 50.0, 'wspd': 8.3, 'wpgt': 13.0, 'pres': 1035.2, 'tsun': 0, 'coco': 2}, {'time': '2020-01-01 07:00:00', 'temp': -1.2, 'dwpt': -2.3, 'rhum': 92.0, 'prcp': 0.0, 'snow': 0.0, 'wdir': 50.0, 'wspd': 9.7, 'wpgt': 15.0, 'pres': 1035.2, 'tsun': 0, 'coco': 1}, {'time': '2020-01-01 08:00:00', 'temp': -1.4, 'dwpt': -2.5, 'rhum': 92.0, 'prcp': 0.0, 'snow': None, 'wdir': 10.0, 'wspd': 10.4, 'wpgt': 15.0, 'pres': 1035.4, 'tsun': 0, 'coco': 1}, {'time': '2020-01-01 09:00:00', 'temp': -1.2, 'dwpt': -2.5, 'rhum': 91.0, 'prcp': 0.0, 'snow': None, 'wdir': 30.0, 'wspd': 11.2, 'wpgt': 18.0, 'pres': 1035.8, 'tsun': 0, 'coco': 2}, {'time': '2020-01-01 10:00:00', 'temp': -0.5, 'dwpt': -2.4, 'rhum': 87.0, 'prcp': 0.0, 'snow': None, 'wdir': 30.0, 'wspd': 10.8, 'wpgt': 17.0, 'pres': 1036.1, 'tsun': 53, 'coco': 2}, {'time': '2020-01-01 11:00:00', 'temp': 0.6, 'dwpt': -2.1, 'rhum': 82.0, 'prcp': 0.0, 'snow': None, 'wdir': 20.0, 'wspd': 12.2, 'wpgt': 21.0, 'pres': 1036.0, 'tsun': 60, 'coco': 2}, {'time': '2020-01-01 12:00:00', 'temp': 2.4, 'dwpt': -1.2, 'rhum': 77.0, 'prcp': 0.0, 'snow': None, 'wdir': 40.0, 'wspd': 11.2, 'wpgt': 18.0, 'pres': 1035.3, 'tsun': 60, 'coco': 2}, {'time': '2020-01-01 13:00:00', 'temp': 3.5, 'dwpt': -0.9, 'rhum': 73.0, 'prcp': 0.0, 'snow': 0.0, 'wdir': 60.0, 'wspd': 14.8, 'wpgt': 22.0, 'pres': 1034.6, 'tsun': 60, 'coco': 1}, {'time': '2020-01-01 14:00:00', 'temp': 3.9, 'dwpt': -0.9, 'rhum': 71.0, 'prcp': 0.0, 'snow': None, 'wdir': 70.0, 'wspd': 13.7, 'wpgt': 21.0, 'pres': 1033.7, 'tsun': 60, 'coco': 1}, {'time': '2020-01-01 15:00:00', 'temp': 4.3, 'dwpt': -0.9, 'rhum': 69.0, 'prcp': 0.0, 'snow': None, 'wdir': 70.0, 'wspd': 14.0, 'wpgt': 22.0, 'pres': 1033.5, 'tsun': 60, 'coco': 1}, {'time': '2020-01-01 16:00:00', 'temp': 3.6, 'dwpt': -0.6, 'rhum': 74.0, 'prcp': 0.0, 'snow': None, 'wdir': 50.0, 'wspd': 11.2, 'wpgt': 18.0, 'pres': 1033.6, 'tsun': 60, 'coco': 1}, {'time': '2020-01-01 17:00:00', 'temp': 2.2, 'dwpt': -0.7, 'rhum': 81.0, 'prcp': 0.0, 'snow': None, 'wdir': 40.0, 'wspd': 8.3, 'wpgt': 15.0, 'pres': 1033.4, 'tsun': 22, 'coco': 1}, {'time': '2020-01-01 18:00:00', 'temp': 1.4, 'dwpt': -0.8, 'rhum': 85.0, 'prcp': 0.0, 'snow': None, 'wdir': 60.0, 'wspd': 5.8, 'wpgt': 11.0, 'pres': 1033.5, 'tsun': 0, 'coco': 1}, {'time': '2020-01-01 19:00:00', 'temp': 0.2, 'dwpt': -1.7, 'rhum': 87.0, 'prcp': 0.0, 'snow': 0.0, 'wdir': 60.0, 'wspd': 12.6, 'wpgt': 18.0, 'pres': 1033.4, 'tsun': 0, 'coco': 1}, {'time': '2020-01-01 20:00:00', 'temp': -0.6, 'dwpt': -2.5, 'rhum': 87.0, 'prcp': 0.0, 'snow': None, 'wdir': 60.0, 'wspd': 14.0, 'wpgt': 22.0, 'pres': 1033.8, 'tsun': 0, 'coco': 1}, {'time': '2020-01-01 21:00:00', 'temp': -1.2, 'dwpt': -2.8, 'rhum': 89.0, 'prcp': 0.0, 'snow': None, 'wdir': 50.0, 'wspd': 8.3, 'wpgt': 11.0, 'pres': 1033.7, 'tsun': 0, 'coco': 1}, {'time': '2020-01-01 22:00:00', 'temp': -1.1, 'dwpt': -2.2, 'rhum': 92.0, 'prcp': 0.0, 'snow': None, 'wdir': 60.0, 'wspd': 7.6, 'wpgt': 13.0, 'pres': 1033.1, 'tsun': 0, 'coco': 1}, {'time': '2020-01-01 23:00:00', 'temp': -1.1, 'dwpt': -2.1, 'rhum': 93.0, 'prcp': 0.0, 'snow': None, 'wdir': 20.0, 'wspd': 8.6, 'wpgt': 18.0, 'pres': 1032.8, 'tsun': 0, 'coco': 1}]\n"
     ]
    }
   ],
   "source": [
    "for key, value in weather_hourly.items():\n",
    "    print(key + ':', value)"
   ]
  },
  {
   "cell_type": "code",
   "execution_count": 14,
   "metadata": {},
   "outputs": [],
   "source": [
    "import pandas as pd"
   ]
  },
  {
   "cell_type": "code",
   "execution_count": null,
   "metadata": {},
   "outputs": [],
   "source": [
    "weather_hourly_df = pd.json_normalize(weather_hourly,\n",
    "                                      sep='_',\n",
    "                                      record_path='')"
   ]
  }
 ],
 "metadata": {
  "kernelspec": {
   "display_name": "nf_sql",
   "language": "python",
   "name": "python3"
  },
  "language_info": {
   "codemirror_mode": {
    "name": "ipython",
    "version": 3
   },
   "file_extension": ".py",
   "mimetype": "text/x-python",
   "name": "python",
   "nbconvert_exporter": "python",
   "pygments_lexer": "ipython3",
   "version": "3.9.7"
  }
 },
 "nbformat": 4,
 "nbformat_minor": 2
}
