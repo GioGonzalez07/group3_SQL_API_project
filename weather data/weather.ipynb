{
 "cells": [
  {
   "cell_type": "code",
   "execution_count": 1,
   "metadata": {},
   "outputs": [],
   "source": [
    "import requests\n",
    "\n",
    "from dotenv import load_dotenv\n",
    "load_dotenv()\n",
    "\n",
    "import os\n",
    "\n",
    "import json\n",
    "\n",
    "import pandas as pd\n",
    "\n",
    "import sql_functions as sf\n",
    "\n",
    "import sqlalchemy\n"
   ]
  },
  {
   "cell_type": "code",
   "execution_count": 2,
   "metadata": {},
   "outputs": [],
   "source": [
    "# querystring has to be changed to the right cities!!\n",
    "querystring = {\"station\":\"10637\",\"start\":\"2020-01-01\",\"end\":\"2020-01-01\",\"tz\":\"Europe/Berlin\"}\n",
    "\n",
    "headers = {\n",
    "\t\"X-RapidAPI-Key\": os.getenv('api_key'),\n",
    "\t\"X-RapidAPI-Host\": \"meteostat.p.rapidapi.com\"\n",
    "    }"
   ]
  },
  {
   "cell_type": "code",
   "execution_count": 3,
   "metadata": {},
   "outputs": [
    {
     "data": {
      "text/plain": [
       "'{\\n   \"meta\": {\\n      \"generated\": \"2024-05-01 16:24:51\"\\n   },\\n   \"data\": [\\n      {\\n         \"time\": \"2020-01-01 00:00:00\",\\n         \"temp\": 0.3,\\n         \"dwpt\": -1.5,\\n         \"rhum\": 88.0,\\n         \"prcp\": 0.0,\\n         \"snow\": null,\\n         \"wdir\": 40.0,\\n         \"wspd\": 8.6,\\n         \"wpgt\": 13.0,\\n         \"pres\": 1036.9,\\n         \"tsun\": 0,\\n         \"coco\": 3\\n      },\\n      {\\n         \"time\": \"2020-01-01 01:00:00\",\\n         \"temp\": 0.0,\\n         \"dwpt\": -1.4,\\n         \"rhum\": 90.0,\\n         \"prcp\": 0.0,\\n         \"snow\": 0.0,\\n         \"wdir\": 40.0,\\n         \"wspd\": 9.7,\\n         \"wpgt\": 15.0,\\n         \"pres\": 1036.5,\\n         \"tsun\": 0,\\n         \"coco\": 3\\n      },\\n      {\\n         \"time\": \"2020-01-01 02:00:00\",\\n         \"temp\": 0.1,\\n         \"dwpt\": -1.3,\\n         \"rhum\": 90.0,\\n         \"prcp\": 0.0,\\n         \"snow\": null,\\n         \"wdir\": 20.0,\\n         \"wspd\": 10.1,\\n         \"wpgt\": 15.0,\\n         \"pres\": 1036.3,\\n         \"tsun\": 0,\\n         \"coco\": 5\\n      },\\n      {\\n         \"time\": \"2020-01-01 03:00:00\",\\n         \"temp\": -1.1,\\n         \"dwpt\": -2.2,\\n         \"rhum\": 92.0,\\n         \"prcp\": 0.0,\\n         \"snow\": null,\\n         \"wdir\": 70.0,\\n         \"wspd\": 7.9,\\n         \"wpgt\": 13.0,\\n         \"pres\": 1036.2,\\n         \"tsun\": 0,\\n         \"coco\": 2\\n      },\\n      {\\n         \"time\": \"2020-01-01 04:00:00\",\\n         \"temp\": -0.4,\\n         \"dwpt\": -1.4,\\n         \"rhum\": 93.0,\\n         \"prcp\": 0.0,\\n         \"snow\": null,\\n         \"wdir\": 80.0,\\n         \"wspd\": 5.8,\\n         \"wpgt\": 11.0,\\n         \"pres\": 1035.7,\\n         \"tsun\": 0,\\n         \"coco\": 3\\n      },\\n      {\\n         \"time\": \"2020-01-01 05:00:00\",\\n         \"temp\": 0.2,\\n         \"dwpt\": -1.2,\\n         \"rhum\": 90.0,\\n         \"prcp\": 0.0,\\n         \"snow\": null,\\n         \"wdir\": 50.0,\\n         \"wspd\": 7.2,\\n         \"wpgt\": 11.0,\\n         \"pres\": 1035.4,\\n         \"tsun\": 0,\\n         \"coco\": 3\\n      },\\n      {\\n         \"time\": \"2020-01-01 06:00:00\",\\n         \"temp\": -1.5,\\n         \"dwpt\": -2.8,\\n         \"rhum\": 91.0,\\n         \"prcp\": 0.0,\\n         \"snow\": null,\\n         \"wdir\": 50.0,\\n         \"wspd\": 8.3,\\n         \"wpgt\": 13.0,\\n         \"pres\": 1035.2,\\n         \"tsun\": 0,\\n         \"coco\": 2\\n      },\\n      {\\n         \"time\": \"2020-01-01 07:00:00\",\\n         \"temp\": -1.2,\\n         \"dwpt\": -2.3,\\n         \"rhum\": 92.0,\\n         \"prcp\": 0.0,\\n         \"snow\": 0.0,\\n         \"wdir\": 50.0,\\n         \"wspd\": 9.7,\\n         \"wpgt\": 15.0,\\n         \"pres\": 1035.2,\\n         \"tsun\": 0,\\n         \"coco\": 1\\n      },\\n      {\\n         \"time\": \"2020-01-01 08:00:00\",\\n         \"temp\": -1.4,\\n         \"dwpt\": -2.5,\\n         \"rhum\": 92.0,\\n         \"prcp\": 0.0,\\n         \"snow\": null,\\n         \"wdir\": 10.0,\\n         \"wspd\": 10.4,\\n         \"wpgt\": 15.0,\\n         \"pres\": 1035.4,\\n         \"tsun\": 0,\\n         \"coco\": 1\\n      },\\n      {\\n         \"time\": \"2020-01-01 09:00:00\",\\n         \"temp\": -1.2,\\n         \"dwpt\": -2.5,\\n         \"rhum\": 91.0,\\n         \"prcp\": 0.0,\\n         \"snow\": null,\\n         \"wdir\": 30.0,\\n         \"wspd\": 11.2,\\n         \"wpgt\": 18.0,\\n         \"pres\": 1035.8,\\n         \"tsun\": 0,\\n         \"coco\": 2\\n      },\\n      {\\n         \"time\": \"2020-01-01 10:00:00\",\\n         \"temp\": -0.5,\\n         \"dwpt\": -2.4,\\n         \"rhum\": 87.0,\\n         \"prcp\": 0.0,\\n         \"snow\": null,\\n         \"wdir\": 30.0,\\n         \"wspd\": 10.8,\\n         \"wpgt\": 17.0,\\n         \"pres\": 1036.1,\\n         \"tsun\": 53,\\n         \"coco\": 2\\n      },\\n      {\\n         \"time\": \"2020-01-01 11:00:00\",\\n         \"temp\": 0.6,\\n         \"dwpt\": -2.1,\\n         \"rhum\": 82.0,\\n         \"prcp\": 0.0,\\n         \"snow\": null,\\n         \"wdir\": 20.0,\\n         \"wspd\": 12.2,\\n         \"wpgt\": 21.0,\\n         \"pres\": 1036.0,\\n         \"tsun\": 60,\\n         \"coco\": 2\\n      },\\n      {\\n         \"time\": \"2020-01-01 12:00:00\",\\n         \"temp\": 2.4,\\n         \"dwpt\": -1.2,\\n         \"rhum\": 77.0,\\n         \"prcp\": 0.0,\\n         \"snow\": null,\\n         \"wdir\": 40.0,\\n         \"wspd\": 11.2,\\n         \"wpgt\": 18.0,\\n         \"pres\": 1035.3,\\n         \"tsun\": 60,\\n         \"coco\": 2\\n      },\\n      {\\n         \"time\": \"2020-01-01 13:00:00\",\\n         \"temp\": 3.5,\\n         \"dwpt\": -0.9,\\n         \"rhum\": 73.0,\\n         \"prcp\": 0.0,\\n         \"snow\": 0.0,\\n         \"wdir\": 60.0,\\n         \"wspd\": 14.8,\\n         \"wpgt\": 22.0,\\n         \"pres\": 1034.6,\\n         \"tsun\": 60,\\n         \"coco\": 1\\n      },\\n      {\\n         \"time\": \"2020-01-01 14:00:00\",\\n         \"temp\": 3.9,\\n         \"dwpt\": -0.9,\\n         \"rhum\": 71.0,\\n         \"prcp\": 0.0,\\n         \"snow\": null,\\n         \"wdir\": 70.0,\\n         \"wspd\": 13.7,\\n         \"wpgt\": 21.0,\\n         \"pres\": 1033.7,\\n         \"tsun\": 60,\\n         \"coco\": 1\\n      },\\n      {\\n         \"time\": \"2020-01-01 15:00:00\",\\n         \"temp\": 4.3,\\n         \"dwpt\": -0.9,\\n         \"rhum\": 69.0,\\n         \"prcp\": 0.0,\\n         \"snow\": null,\\n         \"wdir\": 70.0,\\n         \"wspd\": 14.0,\\n         \"wpgt\": 22.0,\\n         \"pres\": 1033.5,\\n         \"tsun\": 60,\\n         \"coco\": 1\\n      },\\n      {\\n         \"time\": \"2020-01-01 16:00:00\",\\n         \"temp\": 3.6,\\n         \"dwpt\": -0.6,\\n         \"rhum\": 74.0,\\n         \"prcp\": 0.0,\\n         \"snow\": null,\\n         \"wdir\": 50.0,\\n         \"wspd\": 11.2,\\n         \"wpgt\": 18.0,\\n         \"pres\": 1033.6,\\n         \"tsun\": 60,\\n         \"coco\": 1\\n      },\\n      {\\n         \"time\": \"2020-01-01 17:00:00\",\\n         \"temp\": 2.2,\\n         \"dwpt\": -0.7,\\n         \"rhum\": 81.0,\\n         \"prcp\": 0.0,\\n         \"snow\": null,\\n         \"wdir\": 40.0,\\n         \"wspd\": 8.3,\\n         \"wpgt\": 15.0,\\n         \"pres\": 1033.4,\\n         \"tsun\": 22,\\n         \"coco\": 1\\n      },\\n      {\\n         \"time\": \"2020-01-01 18:00:00\",\\n         \"temp\": 1.4,\\n         \"dwpt\": -0.8,\\n         \"rhum\": 85.0,\\n         \"prcp\": 0.0,\\n         \"snow\": null,\\n         \"wdir\": 60.0,\\n         \"wspd\": 5.8,\\n         \"wpgt\": 11.0,\\n         \"pres\": 1033.5,\\n         \"tsun\": 0,\\n         \"coco\": 1\\n      },\\n      {\\n         \"time\": \"2020-01-01 19:00:00\",\\n         \"temp\": 0.2,\\n         \"dwpt\": -1.7,\\n         \"rhum\": 87.0,\\n         \"prcp\": 0.0,\\n         \"snow\": 0.0,\\n         \"wdir\": 60.0,\\n         \"wspd\": 12.6,\\n         \"wpgt\": 18.0,\\n         \"pres\": 1033.4,\\n         \"tsun\": 0,\\n         \"coco\": 1\\n      },\\n      {\\n         \"time\": \"2020-01-01 20:00:00\",\\n         \"temp\": -0.6,\\n         \"dwpt\": -2.5,\\n         \"rhum\": 87.0,\\n         \"prcp\": 0.0,\\n         \"snow\": null,\\n         \"wdir\": 60.0,\\n         \"wspd\": 14.0,\\n         \"wpgt\": 22.0,\\n         \"pres\": 1033.8,\\n         \"tsun\": 0,\\n         \"coco\": 1\\n      },\\n      {\\n         \"time\": \"2020-01-01 21:00:00\",\\n         \"temp\": -1.2,\\n         \"dwpt\": -2.8,\\n         \"rhum\": 89.0,\\n         \"prcp\": 0.0,\\n         \"snow\": null,\\n         \"wdir\": 50.0,\\n         \"wspd\": 8.3,\\n         \"wpgt\": 11.0,\\n         \"pres\": 1033.7,\\n         \"tsun\": 0,\\n         \"coco\": 1\\n      },\\n      {\\n         \"time\": \"2020-01-01 22:00:00\",\\n         \"temp\": -1.1,\\n         \"dwpt\": -2.2,\\n         \"rhum\": 92.0,\\n         \"prcp\": 0.0,\\n         \"snow\": null,\\n         \"wdir\": 60.0,\\n         \"wspd\": 7.6,\\n         \"wpgt\": 13.0,\\n         \"pres\": 1033.1,\\n         \"tsun\": 0,\\n         \"coco\": 1\\n      },\\n      {\\n         \"time\": \"2020-01-01 23:00:00\",\\n         \"temp\": -1.1,\\n         \"dwpt\": -2.1,\\n         \"rhum\": 93.0,\\n         \"prcp\": 0.0,\\n         \"snow\": null,\\n         \"wdir\": 20.0,\\n         \"wspd\": 8.6,\\n         \"wpgt\": 18.0,\\n         \"pres\": 1032.8,\\n         \"tsun\": 0,\\n         \"coco\": 1\\n      }\\n   ]\\n}'"
      ]
     },
     "execution_count": 3,
     "metadata": {},
     "output_type": "execute_result"
    }
   ],
   "source": [
    "url_hourly = \"https://meteostat.p.rapidapi.com/stations/hourly\"\n",
    "response_hourly = requests.get(url_hourly, headers=headers, params=querystring)\n",
    "weather_hourly = response_hourly.json()\n",
    "\n",
    "# Create json object: json_object\n",
    "json_object = json.loads(response_hourly.content)\n",
    "\n",
    "# Print json_object\n",
    "json.dumps(json_object, indent = 3)"
   ]
  },
  {
   "cell_type": "code",
   "execution_count": 4,
   "metadata": {},
   "outputs": [
    {
     "name": "stdout",
     "output_type": "stream",
     "text": [
      "meta: {'generated': '2024-05-01 16:24:51'}\n",
      "data: [{'time': '2020-01-01 00:00:00', 'temp': 0.3, 'dwpt': -1.5, 'rhum': 88.0, 'prcp': 0.0, 'snow': None, 'wdir': 40.0, 'wspd': 8.6, 'wpgt': 13.0, 'pres': 1036.9, 'tsun': 0, 'coco': 3}, {'time': '2020-01-01 01:00:00', 'temp': 0.0, 'dwpt': -1.4, 'rhum': 90.0, 'prcp': 0.0, 'snow': 0.0, 'wdir': 40.0, 'wspd': 9.7, 'wpgt': 15.0, 'pres': 1036.5, 'tsun': 0, 'coco': 3}, {'time': '2020-01-01 02:00:00', 'temp': 0.1, 'dwpt': -1.3, 'rhum': 90.0, 'prcp': 0.0, 'snow': None, 'wdir': 20.0, 'wspd': 10.1, 'wpgt': 15.0, 'pres': 1036.3, 'tsun': 0, 'coco': 5}, {'time': '2020-01-01 03:00:00', 'temp': -1.1, 'dwpt': -2.2, 'rhum': 92.0, 'prcp': 0.0, 'snow': None, 'wdir': 70.0, 'wspd': 7.9, 'wpgt': 13.0, 'pres': 1036.2, 'tsun': 0, 'coco': 2}, {'time': '2020-01-01 04:00:00', 'temp': -0.4, 'dwpt': -1.4, 'rhum': 93.0, 'prcp': 0.0, 'snow': None, 'wdir': 80.0, 'wspd': 5.8, 'wpgt': 11.0, 'pres': 1035.7, 'tsun': 0, 'coco': 3}, {'time': '2020-01-01 05:00:00', 'temp': 0.2, 'dwpt': -1.2, 'rhum': 90.0, 'prcp': 0.0, 'snow': None, 'wdir': 50.0, 'wspd': 7.2, 'wpgt': 11.0, 'pres': 1035.4, 'tsun': 0, 'coco': 3}, {'time': '2020-01-01 06:00:00', 'temp': -1.5, 'dwpt': -2.8, 'rhum': 91.0, 'prcp': 0.0, 'snow': None, 'wdir': 50.0, 'wspd': 8.3, 'wpgt': 13.0, 'pres': 1035.2, 'tsun': 0, 'coco': 2}, {'time': '2020-01-01 07:00:00', 'temp': -1.2, 'dwpt': -2.3, 'rhum': 92.0, 'prcp': 0.0, 'snow': 0.0, 'wdir': 50.0, 'wspd': 9.7, 'wpgt': 15.0, 'pres': 1035.2, 'tsun': 0, 'coco': 1}, {'time': '2020-01-01 08:00:00', 'temp': -1.4, 'dwpt': -2.5, 'rhum': 92.0, 'prcp': 0.0, 'snow': None, 'wdir': 10.0, 'wspd': 10.4, 'wpgt': 15.0, 'pres': 1035.4, 'tsun': 0, 'coco': 1}, {'time': '2020-01-01 09:00:00', 'temp': -1.2, 'dwpt': -2.5, 'rhum': 91.0, 'prcp': 0.0, 'snow': None, 'wdir': 30.0, 'wspd': 11.2, 'wpgt': 18.0, 'pres': 1035.8, 'tsun': 0, 'coco': 2}, {'time': '2020-01-01 10:00:00', 'temp': -0.5, 'dwpt': -2.4, 'rhum': 87.0, 'prcp': 0.0, 'snow': None, 'wdir': 30.0, 'wspd': 10.8, 'wpgt': 17.0, 'pres': 1036.1, 'tsun': 53, 'coco': 2}, {'time': '2020-01-01 11:00:00', 'temp': 0.6, 'dwpt': -2.1, 'rhum': 82.0, 'prcp': 0.0, 'snow': None, 'wdir': 20.0, 'wspd': 12.2, 'wpgt': 21.0, 'pres': 1036.0, 'tsun': 60, 'coco': 2}, {'time': '2020-01-01 12:00:00', 'temp': 2.4, 'dwpt': -1.2, 'rhum': 77.0, 'prcp': 0.0, 'snow': None, 'wdir': 40.0, 'wspd': 11.2, 'wpgt': 18.0, 'pres': 1035.3, 'tsun': 60, 'coco': 2}, {'time': '2020-01-01 13:00:00', 'temp': 3.5, 'dwpt': -0.9, 'rhum': 73.0, 'prcp': 0.0, 'snow': 0.0, 'wdir': 60.0, 'wspd': 14.8, 'wpgt': 22.0, 'pres': 1034.6, 'tsun': 60, 'coco': 1}, {'time': '2020-01-01 14:00:00', 'temp': 3.9, 'dwpt': -0.9, 'rhum': 71.0, 'prcp': 0.0, 'snow': None, 'wdir': 70.0, 'wspd': 13.7, 'wpgt': 21.0, 'pres': 1033.7, 'tsun': 60, 'coco': 1}, {'time': '2020-01-01 15:00:00', 'temp': 4.3, 'dwpt': -0.9, 'rhum': 69.0, 'prcp': 0.0, 'snow': None, 'wdir': 70.0, 'wspd': 14.0, 'wpgt': 22.0, 'pres': 1033.5, 'tsun': 60, 'coco': 1}, {'time': '2020-01-01 16:00:00', 'temp': 3.6, 'dwpt': -0.6, 'rhum': 74.0, 'prcp': 0.0, 'snow': None, 'wdir': 50.0, 'wspd': 11.2, 'wpgt': 18.0, 'pres': 1033.6, 'tsun': 60, 'coco': 1}, {'time': '2020-01-01 17:00:00', 'temp': 2.2, 'dwpt': -0.7, 'rhum': 81.0, 'prcp': 0.0, 'snow': None, 'wdir': 40.0, 'wspd': 8.3, 'wpgt': 15.0, 'pres': 1033.4, 'tsun': 22, 'coco': 1}, {'time': '2020-01-01 18:00:00', 'temp': 1.4, 'dwpt': -0.8, 'rhum': 85.0, 'prcp': 0.0, 'snow': None, 'wdir': 60.0, 'wspd': 5.8, 'wpgt': 11.0, 'pres': 1033.5, 'tsun': 0, 'coco': 1}, {'time': '2020-01-01 19:00:00', 'temp': 0.2, 'dwpt': -1.7, 'rhum': 87.0, 'prcp': 0.0, 'snow': 0.0, 'wdir': 60.0, 'wspd': 12.6, 'wpgt': 18.0, 'pres': 1033.4, 'tsun': 0, 'coco': 1}, {'time': '2020-01-01 20:00:00', 'temp': -0.6, 'dwpt': -2.5, 'rhum': 87.0, 'prcp': 0.0, 'snow': None, 'wdir': 60.0, 'wspd': 14.0, 'wpgt': 22.0, 'pres': 1033.8, 'tsun': 0, 'coco': 1}, {'time': '2020-01-01 21:00:00', 'temp': -1.2, 'dwpt': -2.8, 'rhum': 89.0, 'prcp': 0.0, 'snow': None, 'wdir': 50.0, 'wspd': 8.3, 'wpgt': 11.0, 'pres': 1033.7, 'tsun': 0, 'coco': 1}, {'time': '2020-01-01 22:00:00', 'temp': -1.1, 'dwpt': -2.2, 'rhum': 92.0, 'prcp': 0.0, 'snow': None, 'wdir': 60.0, 'wspd': 7.6, 'wpgt': 13.0, 'pres': 1033.1, 'tsun': 0, 'coco': 1}, {'time': '2020-01-01 23:00:00', 'temp': -1.1, 'dwpt': -2.1, 'rhum': 93.0, 'prcp': 0.0, 'snow': None, 'wdir': 20.0, 'wspd': 8.6, 'wpgt': 18.0, 'pres': 1032.8, 'tsun': 0, 'coco': 1}]\n"
     ]
    }
   ],
   "source": [
    "for key, value in weather_hourly.items():\n",
    "    print(key + ':', value)"
   ]
  },
  {
   "cell_type": "code",
   "execution_count": 9,
   "metadata": {},
   "outputs": [
    {
     "name": "stdout",
     "output_type": "stream",
     "text": [
      "           weather_time  weather_temp  weather_dwpt  weather_rhum   \n",
      "0   2020-01-01 00:00:00           0.3          -1.5          88.0  \\\n",
      "1   2020-01-01 01:00:00           0.0          -1.4          90.0   \n",
      "2   2020-01-01 02:00:00           0.1          -1.3          90.0   \n",
      "3   2020-01-01 03:00:00          -1.1          -2.2          92.0   \n",
      "4   2020-01-01 04:00:00          -0.4          -1.4          93.0   \n",
      "5   2020-01-01 05:00:00           0.2          -1.2          90.0   \n",
      "6   2020-01-01 06:00:00          -1.5          -2.8          91.0   \n",
      "7   2020-01-01 07:00:00          -1.2          -2.3          92.0   \n",
      "8   2020-01-01 08:00:00          -1.4          -2.5          92.0   \n",
      "9   2020-01-01 09:00:00          -1.2          -2.5          91.0   \n",
      "10  2020-01-01 10:00:00          -0.5          -2.4          87.0   \n",
      "11  2020-01-01 11:00:00           0.6          -2.1          82.0   \n",
      "12  2020-01-01 12:00:00           2.4          -1.2          77.0   \n",
      "13  2020-01-01 13:00:00           3.5          -0.9          73.0   \n",
      "14  2020-01-01 14:00:00           3.9          -0.9          71.0   \n",
      "15  2020-01-01 15:00:00           4.3          -0.9          69.0   \n",
      "16  2020-01-01 16:00:00           3.6          -0.6          74.0   \n",
      "17  2020-01-01 17:00:00           2.2          -0.7          81.0   \n",
      "18  2020-01-01 18:00:00           1.4          -0.8          85.0   \n",
      "19  2020-01-01 19:00:00           0.2          -1.7          87.0   \n",
      "20  2020-01-01 20:00:00          -0.6          -2.5          87.0   \n",
      "21  2020-01-01 21:00:00          -1.2          -2.8          89.0   \n",
      "22  2020-01-01 22:00:00          -1.1          -2.2          92.0   \n",
      "23  2020-01-01 23:00:00          -1.1          -2.1          93.0   \n",
      "\n",
      "    weather_prcp  weather_snow  weather_wdir  weather_wspd  weather_wpgt   \n",
      "0            0.0           NaN          40.0           8.6          13.0  \\\n",
      "1            0.0           0.0          40.0           9.7          15.0   \n",
      "2            0.0           NaN          20.0          10.1          15.0   \n",
      "3            0.0           NaN          70.0           7.9          13.0   \n",
      "4            0.0           NaN          80.0           5.8          11.0   \n",
      "5            0.0           NaN          50.0           7.2          11.0   \n",
      "6            0.0           NaN          50.0           8.3          13.0   \n",
      "7            0.0           0.0          50.0           9.7          15.0   \n",
      "8            0.0           NaN          10.0          10.4          15.0   \n",
      "9            0.0           NaN          30.0          11.2          18.0   \n",
      "10           0.0           NaN          30.0          10.8          17.0   \n",
      "11           0.0           NaN          20.0          12.2          21.0   \n",
      "12           0.0           NaN          40.0          11.2          18.0   \n",
      "13           0.0           0.0          60.0          14.8          22.0   \n",
      "14           0.0           NaN          70.0          13.7          21.0   \n",
      "15           0.0           NaN          70.0          14.0          22.0   \n",
      "16           0.0           NaN          50.0          11.2          18.0   \n",
      "17           0.0           NaN          40.0           8.3          15.0   \n",
      "18           0.0           NaN          60.0           5.8          11.0   \n",
      "19           0.0           0.0          60.0          12.6          18.0   \n",
      "20           0.0           NaN          60.0          14.0          22.0   \n",
      "21           0.0           NaN          50.0           8.3          11.0   \n",
      "22           0.0           NaN          60.0           7.6          13.0   \n",
      "23           0.0           NaN          20.0           8.6          18.0   \n",
      "\n",
      "    weather_pres  weather_tsun  weather_coco  \n",
      "0         1036.9             0             3  \n",
      "1         1036.5             0             3  \n",
      "2         1036.3             0             5  \n",
      "3         1036.2             0             2  \n",
      "4         1035.7             0             3  \n",
      "5         1035.4             0             3  \n",
      "6         1035.2             0             2  \n",
      "7         1035.2             0             1  \n",
      "8         1035.4             0             1  \n",
      "9         1035.8             0             2  \n",
      "10        1036.1            53             2  \n",
      "11        1036.0            60             2  \n",
      "12        1035.3            60             2  \n",
      "13        1034.6            60             1  \n",
      "14        1033.7            60             1  \n",
      "15        1033.5            60             1  \n",
      "16        1033.6            60             1  \n",
      "17        1033.4            22             1  \n",
      "18        1033.5             0             1  \n",
      "19        1033.4             0             1  \n",
      "20        1033.8             0             1  \n",
      "21        1033.7             0             1  \n",
      "22        1033.1             0             1  \n",
      "23        1032.8             0             1  \n"
     ]
    }
   ],
   "source": [
    "weather_hourly_df = pd.json_normalize(weather_hourly,\n",
    "                                      sep='_',\n",
    "                                      record_path='data',\n",
    "                                      #meta=[['generated']],\n",
    "                                      record_prefix='weather_'\n",
    "                                      )\n",
    "print(weather_hourly_df)"
   ]
  },
  {
   "cell_type": "code",
   "execution_count": null,
   "metadata": {},
   "outputs": [],
   "source": [
    "# Set the url\n",
    "url = 'https://meteostat.p.rapidapi.com/stations/'\n",
    "\n",
    "# Settings:\n",
    "time = 'hourly'\n",
    "stations = [\n",
    "            'New York',\n",
    "            'New Jersey'\n",
    "            ] # maybe we have to translate it into a station-code\n",
    "start_date = '2016-01-26'\n",
    "end_date = '2016-01-27'\n",
    "timezone = 'New York'   # has to be set to the right one\n",
    "\n",
    "querystring = {\"station\":{station},\"start\":{start_date},\"end\":{end_date},\"tz\":{timezone}}\n",
    "\n",
    "headers = {\n",
    "\t\"X-RapidAPI-Key\": os.getenv('api_key'),\n",
    "\t\"X-RapidAPI-Host\": \"meteostat.p.rapidapi.com\"\n",
    "    }\n",
    "\n",
    "# Create empty dataframe, will be used to append each locations and times weather data\n",
    "weather_df = pd.DataFrame([])\n",
    "\n",
    "# Loop through all locations\n",
    "for station in stations:\n",
    "    # Create final url\n",
    "    url_f = url + time\n",
    "\n",
    "    # Request data from url\n",
    "    r = requests.get(url_f, headers=headers, params=querystring)\n",
    "\n",
    "    # time.sleep(1) #uncomment if you run into a query limit\n",
    "\n",
    "    # Decode response with json decoder\n",
    "    weather_temp = r.json()\n",
    "\n",
    "    # Flatten json response\n",
    "    weather_temp_df = pd.json_normalize(weather_temp,\n",
    "                                    sep='_',\n",
    "                                    record_path='data',\n",
    "                                    record_prefix='weather_'\n",
    "                                    )\n",
    "    # concatenate dataframes\n",
    "    weather_df = pd.concat([weather_df, weather_temp_df], ignore_index=True)\n",
    "\n",
    "# Print final dataset weather_df\n",
    "weather_df"
   ]
  },
  {
   "cell_type": "markdown",
   "metadata": {},
   "source": [
    "**Don't let the next cell run, because I just copy/pasted the cell from the other notebook, but didn't exactly look over the code**\n",
    "\n",
    "**And I also think we just need to do this part once!**"
   ]
  },
  {
   "cell_type": "code",
   "execution_count": null,
   "metadata": {},
   "outputs": [],
   "source": [
    "# Import get_engine function from sql_functions.py and set it to a variable called engine\n",
    "from sql_functions import get_engine\n",
    "engine = get_engine()\n",
    "# Import psycopg2\n",
    "import psycopg2\n",
    "\n",
    "# Write records stored in a dataframe to SQL database\n",
    "if engine!=None:\n",
    "    try:\n",
    "        weather_hourly_df.to_sql(name='weather_hourly', # Name of SQL table\n",
    "                        con=engine, # Engine or connection\n",
    "                        if_exists='replace', # Drop the table before inserting new values\n",
    "                        schema='hh_analytics_24_1', # your class schema\n",
    "                        index=False, # Write DataFrame index as a column\n",
    "                        chunksize=5000, # Specify the number of rows in each batch to be written at a time\n",
    "                        method='multi') # Pass multiple values in a single INSERT clause\n",
    "        print(f\"The weather_info table was imported successfully.\")\n",
    "    # Error handling\n",
    "    except (Exception, psycopg2.DatabaseError) as error:\n",
    "        print(error)\n",
    "        engine = None\n",
    "else:\n",
    "    print('oups!')"
   ]
  }
 ],
 "metadata": {
  "kernelspec": {
   "display_name": "nf_sql",
   "language": "python",
   "name": "python3"
  },
  "language_info": {
   "codemirror_mode": {
    "name": "ipython",
    "version": 3
   },
   "file_extension": ".py",
   "mimetype": "text/x-python",
   "name": "python",
   "nbconvert_exporter": "python",
   "pygments_lexer": "ipython3",
   "version": "3.9.7"
  }
 },
 "nbformat": 4,
 "nbformat_minor": 2
}
