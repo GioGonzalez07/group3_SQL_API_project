{
 "cells": [
  {
   "cell_type": "code",
   "execution_count": null,
   "metadata": {},
   "outputs": [],
   "source": [
    "import requests\n",
    "\n",
    "url = \"https://meteostat.p.rapidapi.com/stations/hourly\"\n",
    "\n",
    "querystring = {\"station\":\"10637\",\"start\":\"2020-01-01\",\"end\":\"2020-01-01\",\"tz\":\"Europe/Berlin\"}\n",
    "\n",
    "headers = {\n",
    "\t\"X-RapidAPI-Key\": \"8b1c89bba4msh823618507aa1331p1d8296jsnd01f84491ede\",\n",
    "\t\"X-RapidAPI-Host\": \"meteostat.p.rapidapi.com\"\n",
    "}\n",
    "\n",
    "response = requests.get(url, headers=headers, params=querystring)\n",
    "\n",
    "print(response.json())"
   ]
  }
 ],
 "metadata": {
  "language_info": {
   "name": "python"
  }
 },
 "nbformat": 4,
 "nbformat_minor": 2
}
