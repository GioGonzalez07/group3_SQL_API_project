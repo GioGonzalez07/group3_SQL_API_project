{
 "cells": [
  {
   "cell_type": "markdown",
   "metadata": {},
   "source": [
    "### CANCELLATION CODE OVERVIEW\n",
    "- unique values: 'A', 'C', 'B', 'D', 'NaN'\n",
    "- Code A: This typically indicates that the flight was canceled due to aircraft mechanical issues or maintenance problems.\n",
    "- Code B: This code is often used to indicate that the flight was canceled due to weather conditions. This could include adverse weather at the departure or destination airport, along the route of flight, or at alternate airports.\n",
    "- Code C: This code may indicate that the flight was canceled due to air traffic control issues, such as airspace restrictions, traffic flow management, or other operational reasons.\n",
    "- Code D: This code might indicate that the flight was canceled at the pilot's request or due to personal reasons, such as illness, scheduling conflicts, or changes in plans."
   ]
  },
  {
   "cell_type": "code",
   "execution_count": 1,
   "metadata": {},
   "outputs": [],
   "source": [
    "import sys\n",
    "sys.path.append('../')  # Add the parent folder to the Python path\n",
    "from sql_functions import push_to_cloud\n",
    "from sql_functions import create_table"
   ]
  },
  {
   "cell_type": "code",
   "execution_count": 2,
   "metadata": {},
   "outputs": [
    {
     "name": "stderr",
     "output_type": "stream",
     "text": [
      "/Users/giovannasttorto/Documents/DataAnalytics/group3_SQL_API_project/flights data/../sql_functions.py:131: DtypeWarning: Columns (77,84,85) have mixed types. Specify dtype option on import or set low_memory=False.\n",
      "  flights_data.append(pd.read_csv(file_path))\n",
      "/Users/giovannasttorto/Documents/DataAnalytics/group3_SQL_API_project/flights data/../sql_functions.py:131: DtypeWarning: Columns (77,84) have mixed types. Specify dtype option on import or set low_memory=False.\n",
      "  flights_data.append(pd.read_csv(file_path))\n",
      "/Users/giovannasttorto/Documents/DataAnalytics/group3_SQL_API_project/flights data/../sql_functions.py:131: DtypeWarning: Columns (76,77,84,85) have mixed types. Specify dtype option on import or set low_memory=False.\n",
      "  flights_data.append(pd.read_csv(file_path))\n",
      "/Users/giovannasttorto/Documents/DataAnalytics/group3_SQL_API_project/flights data/../sql_functions.py:161: SettingWithCopyWarning: \n",
      "A value is trying to be set on a copy of a slice from a DataFrame.\n",
      "Try using .loc[row_indexer,col_indexer] = value instead\n",
      "\n",
      "See the caveats in the documentation: https://pandas.pydata.org/pandas-docs/stable/user_guide/indexing.html#returning-a-view-versus-a-copy\n",
      "  flights['cancellation_code_info'] = flights['cancellation_code'].map(cancellation_code)\n",
      "/Users/giovannasttorto/Documents/DataAnalytics/group3_SQL_API_project/flights data/../sql_functions.py:162: SettingWithCopyWarning: \n",
      "A value is trying to be set on a copy of a slice from a DataFrame.\n",
      "Try using .loc[row_indexer,col_indexer] = value instead\n",
      "\n",
      "See the caveats in the documentation: https://pandas.pydata.org/pandas-docs/stable/user_guide/indexing.html#returning-a-view-versus-a-copy\n",
      "  flights[\"cancellation_code_info\"] = flights[\"cancellation_code_info\"].fillna(\"not cancelled\")\n",
      "/Users/giovannasttorto/Documents/DataAnalytics/group3_SQL_API_project/flights data/../sql_functions.py:163: SettingWithCopyWarning: \n",
      "A value is trying to be set on a copy of a slice from a DataFrame\n",
      "\n",
      "See the caveats in the documentation: https://pandas.pydata.org/pandas-docs/stable/user_guide/indexing.html#returning-a-view-versus-a-copy\n",
      "  flights.drop_duplicates(inplace=True)\n",
      "/Users/giovannasttorto/Documents/DataAnalytics/group3_SQL_API_project/flights data/../sql_functions.py:164: SettingWithCopyWarning: \n",
      "A value is trying to be set on a copy of a slice from a DataFrame.\n",
      "Try using .loc[row_indexer,col_indexer] = value instead\n",
      "\n",
      "See the caveats in the documentation: https://pandas.pydata.org/pandas-docs/stable/user_guide/indexing.html#returning-a-view-versus-a-copy\n",
      "  flights[\"had_delay\"] = ((flights[\"arr_delay\"] < 0) | (flights[\"dep_delay\"] < 0)).astype(int)\n",
      "/Users/giovannasttorto/Documents/DataAnalytics/group3_SQL_API_project/flights data/../sql_functions.py:165: SettingWithCopyWarning: \n",
      "A value is trying to be set on a copy of a slice from a DataFrame.\n",
      "Try using .loc[row_indexer,col_indexer] = value instead\n",
      "\n",
      "See the caveats in the documentation: https://pandas.pydata.org/pandas-docs/stable/user_guide/indexing.html#returning-a-view-versus-a-copy\n",
      "  flights['flight_date'] = pd.to_datetime(flights['flight_date'])\n"
     ]
    },
    {
     "name": "stdout",
     "output_type": "stream",
     "text": [
      "The flights_2015 table was imported successfully.\n",
      "No engine\n"
     ]
    }
   ],
   "source": [
    "# Get the data for the year of 2015 and set a table\n",
    "flight_2015 = create_table(2015, [1, 2, 12])\n",
    "\n",
    "# Push 2015 table to the database\n",
    "push_to_cloud(flight_2015, \"flights_2015\")\n"
   ]
  },
  {
   "cell_type": "code",
   "execution_count": 3,
   "metadata": {},
   "outputs": [
    {
     "name": "stderr",
     "output_type": "stream",
     "text": [
      "/Users/giovannasttorto/Documents/DataAnalytics/group3_SQL_API_project/flights data/../sql_functions.py:131: DtypeWarning: Columns (77) have mixed types. Specify dtype option on import or set low_memory=False.\n",
      "  flights_data.append(pd.read_csv(file_path))\n",
      "/Users/giovannasttorto/Documents/DataAnalytics/group3_SQL_API_project/flights data/../sql_functions.py:131: DtypeWarning: Columns (48,77,84) have mixed types. Specify dtype option on import or set low_memory=False.\n",
      "  flights_data.append(pd.read_csv(file_path))\n",
      "/Users/giovannasttorto/Documents/DataAnalytics/group3_SQL_API_project/flights data/../sql_functions.py:131: DtypeWarning: Columns (48,77,84) have mixed types. Specify dtype option on import or set low_memory=False.\n",
      "  flights_data.append(pd.read_csv(file_path))\n",
      "/Users/giovannasttorto/Documents/DataAnalytics/group3_SQL_API_project/flights data/../sql_functions.py:131: DtypeWarning: Columns (48,77,84) have mixed types. Specify dtype option on import or set low_memory=False.\n",
      "  flights_data.append(pd.read_csv(file_path))\n",
      "/Users/giovannasttorto/Documents/DataAnalytics/group3_SQL_API_project/flights data/../sql_functions.py:131: DtypeWarning: Columns (48,77,84,85) have mixed types. Specify dtype option on import or set low_memory=False.\n",
      "  flights_data.append(pd.read_csv(file_path))\n",
      "/Users/giovannasttorto/Documents/DataAnalytics/group3_SQL_API_project/flights data/../sql_functions.py:131: DtypeWarning: Columns (48,77,84) have mixed types. Specify dtype option on import or set low_memory=False.\n",
      "  flights_data.append(pd.read_csv(file_path))\n",
      "/Users/giovannasttorto/Documents/DataAnalytics/group3_SQL_API_project/flights data/../sql_functions.py:131: DtypeWarning: Columns (48,77,84) have mixed types. Specify dtype option on import or set low_memory=False.\n",
      "  flights_data.append(pd.read_csv(file_path))\n",
      "/Users/giovannasttorto/Documents/DataAnalytics/group3_SQL_API_project/flights data/../sql_functions.py:131: DtypeWarning: Columns (48,77,84) have mixed types. Specify dtype option on import or set low_memory=False.\n",
      "  flights_data.append(pd.read_csv(file_path))\n",
      "/Users/giovannasttorto/Documents/DataAnalytics/group3_SQL_API_project/flights data/../sql_functions.py:131: DtypeWarning: Columns (48,77,84) have mixed types. Specify dtype option on import or set low_memory=False.\n",
      "  flights_data.append(pd.read_csv(file_path))\n",
      "/Users/giovannasttorto/Documents/DataAnalytics/group3_SQL_API_project/flights data/../sql_functions.py:131: DtypeWarning: Columns (48,77,84) have mixed types. Specify dtype option on import or set low_memory=False.\n",
      "  flights_data.append(pd.read_csv(file_path))\n",
      "/Users/giovannasttorto/Documents/DataAnalytics/group3_SQL_API_project/flights data/../sql_functions.py:131: DtypeWarning: Columns (48,69,76,77,84) have mixed types. Specify dtype option on import or set low_memory=False.\n",
      "  flights_data.append(pd.read_csv(file_path))\n",
      "/Users/giovannasttorto/Documents/DataAnalytics/group3_SQL_API_project/flights data/../sql_functions.py:131: DtypeWarning: Columns (48,77,84) have mixed types. Specify dtype option on import or set low_memory=False.\n",
      "  flights_data.append(pd.read_csv(file_path))\n",
      "/Users/giovannasttorto/Documents/DataAnalytics/group3_SQL_API_project/flights data/../sql_functions.py:161: SettingWithCopyWarning: \n",
      "A value is trying to be set on a copy of a slice from a DataFrame.\n",
      "Try using .loc[row_indexer,col_indexer] = value instead\n",
      "\n",
      "See the caveats in the documentation: https://pandas.pydata.org/pandas-docs/stable/user_guide/indexing.html#returning-a-view-versus-a-copy\n",
      "  flights['cancellation_code_info'] = flights['cancellation_code'].map(cancellation_code)\n",
      "/Users/giovannasttorto/Documents/DataAnalytics/group3_SQL_API_project/flights data/../sql_functions.py:162: SettingWithCopyWarning: \n",
      "A value is trying to be set on a copy of a slice from a DataFrame.\n",
      "Try using .loc[row_indexer,col_indexer] = value instead\n",
      "\n",
      "See the caveats in the documentation: https://pandas.pydata.org/pandas-docs/stable/user_guide/indexing.html#returning-a-view-versus-a-copy\n",
      "  flights[\"cancellation_code_info\"] = flights[\"cancellation_code_info\"].fillna(\"not cancelled\")\n",
      "/Users/giovannasttorto/Documents/DataAnalytics/group3_SQL_API_project/flights data/../sql_functions.py:163: SettingWithCopyWarning: \n",
      "A value is trying to be set on a copy of a slice from a DataFrame\n",
      "\n",
      "See the caveats in the documentation: https://pandas.pydata.org/pandas-docs/stable/user_guide/indexing.html#returning-a-view-versus-a-copy\n",
      "  flights.drop_duplicates(inplace=True)\n",
      "/Users/giovannasttorto/Documents/DataAnalytics/group3_SQL_API_project/flights data/../sql_functions.py:164: SettingWithCopyWarning: \n",
      "A value is trying to be set on a copy of a slice from a DataFrame.\n",
      "Try using .loc[row_indexer,col_indexer] = value instead\n",
      "\n",
      "See the caveats in the documentation: https://pandas.pydata.org/pandas-docs/stable/user_guide/indexing.html#returning-a-view-versus-a-copy\n",
      "  flights[\"had_delay\"] = ((flights[\"arr_delay\"] < 0) | (flights[\"dep_delay\"] < 0)).astype(int)\n",
      "/Users/giovannasttorto/Documents/DataAnalytics/group3_SQL_API_project/flights data/../sql_functions.py:165: SettingWithCopyWarning: \n",
      "A value is trying to be set on a copy of a slice from a DataFrame.\n",
      "Try using .loc[row_indexer,col_indexer] = value instead\n",
      "\n",
      "See the caveats in the documentation: https://pandas.pydata.org/pandas-docs/stable/user_guide/indexing.html#returning-a-view-versus-a-copy\n",
      "  flights['flight_date'] = pd.to_datetime(flights['flight_date'])\n"
     ]
    },
    {
     "name": "stdout",
     "output_type": "stream",
     "text": [
      "The flights_2016 table was imported successfully.\n",
      "No engine\n"
     ]
    }
   ],
   "source": [
    "# Get the data for the year of 2016 and set a table\n",
    "flight_2016 = create_table(2016, [1, 2, 3, 4, 5, 6, 7, 8, 9, 10, 11, 12])\n",
    "\n",
    "# Push 2016 table to the database\n",
    "push_to_cloud(flight_2016, \"flights_2016\")"
   ]
  },
  {
   "cell_type": "code",
   "execution_count": 4,
   "metadata": {},
   "outputs": [
    {
     "name": "stderr",
     "output_type": "stream",
     "text": [
      "/Users/giovannasttorto/Documents/DataAnalytics/group3_SQL_API_project/flights data/../sql_functions.py:131: DtypeWarning: Columns (48,77,84) have mixed types. Specify dtype option on import or set low_memory=False.\n",
      "  flights_data.append(pd.read_csv(file_path))\n",
      "/Users/giovannasttorto/Documents/DataAnalytics/group3_SQL_API_project/flights data/../sql_functions.py:131: DtypeWarning: Columns (48,76,77,84) have mixed types. Specify dtype option on import or set low_memory=False.\n",
      "  flights_data.append(pd.read_csv(file_path))\n",
      "/Users/giovannasttorto/Documents/DataAnalytics/group3_SQL_API_project/flights data/../sql_functions.py:131: DtypeWarning: Columns (48,77,84) have mixed types. Specify dtype option on import or set low_memory=False.\n",
      "  flights_data.append(pd.read_csv(file_path))\n",
      "/Users/giovannasttorto/Documents/DataAnalytics/group3_SQL_API_project/flights data/../sql_functions.py:161: SettingWithCopyWarning: \n",
      "A value is trying to be set on a copy of a slice from a DataFrame.\n",
      "Try using .loc[row_indexer,col_indexer] = value instead\n",
      "\n",
      "See the caveats in the documentation: https://pandas.pydata.org/pandas-docs/stable/user_guide/indexing.html#returning-a-view-versus-a-copy\n",
      "  flights['cancellation_code_info'] = flights['cancellation_code'].map(cancellation_code)\n",
      "/Users/giovannasttorto/Documents/DataAnalytics/group3_SQL_API_project/flights data/../sql_functions.py:162: SettingWithCopyWarning: \n",
      "A value is trying to be set on a copy of a slice from a DataFrame.\n",
      "Try using .loc[row_indexer,col_indexer] = value instead\n",
      "\n",
      "See the caveats in the documentation: https://pandas.pydata.org/pandas-docs/stable/user_guide/indexing.html#returning-a-view-versus-a-copy\n",
      "  flights[\"cancellation_code_info\"] = flights[\"cancellation_code_info\"].fillna(\"not cancelled\")\n",
      "/Users/giovannasttorto/Documents/DataAnalytics/group3_SQL_API_project/flights data/../sql_functions.py:163: SettingWithCopyWarning: \n",
      "A value is trying to be set on a copy of a slice from a DataFrame\n",
      "\n",
      "See the caveats in the documentation: https://pandas.pydata.org/pandas-docs/stable/user_guide/indexing.html#returning-a-view-versus-a-copy\n",
      "  flights.drop_duplicates(inplace=True)\n",
      "/Users/giovannasttorto/Documents/DataAnalytics/group3_SQL_API_project/flights data/../sql_functions.py:164: SettingWithCopyWarning: \n",
      "A value is trying to be set on a copy of a slice from a DataFrame.\n",
      "Try using .loc[row_indexer,col_indexer] = value instead\n",
      "\n",
      "See the caveats in the documentation: https://pandas.pydata.org/pandas-docs/stable/user_guide/indexing.html#returning-a-view-versus-a-copy\n",
      "  flights[\"had_delay\"] = ((flights[\"arr_delay\"] < 0) | (flights[\"dep_delay\"] < 0)).astype(int)\n",
      "/Users/giovannasttorto/Documents/DataAnalytics/group3_SQL_API_project/flights data/../sql_functions.py:165: SettingWithCopyWarning: \n",
      "A value is trying to be set on a copy of a slice from a DataFrame.\n",
      "Try using .loc[row_indexer,col_indexer] = value instead\n",
      "\n",
      "See the caveats in the documentation: https://pandas.pydata.org/pandas-docs/stable/user_guide/indexing.html#returning-a-view-versus-a-copy\n",
      "  flights['flight_date'] = pd.to_datetime(flights['flight_date'])\n"
     ]
    },
    {
     "name": "stdout",
     "output_type": "stream",
     "text": [
      "The flights_2017 table was imported successfully.\n",
      "No engine\n"
     ]
    }
   ],
   "source": [
    "# Get the data for the year of 2017 and set a table\n",
    "flight_2017 = create_table(2017, [1, 2, 12])\n",
    "\n",
    "# Push 2017 table to the database\n",
    "push_to_cloud(flight_2017, \"flights_2017\")"
   ]
  }
 ],
 "metadata": {
  "kernelspec": {
   "display_name": "nf_sql",
   "language": "python",
   "name": "python3"
  },
  "language_info": {
   "codemirror_mode": {
    "name": "ipython",
    "version": 3
   },
   "file_extension": ".py",
   "mimetype": "text/x-python",
   "name": "python",
   "nbconvert_exporter": "python",
   "pygments_lexer": "ipython3",
   "version": "3.9.12"
  }
 },
 "nbformat": 4,
 "nbformat_minor": 2
}
