{
 "cells": [
  {
   "cell_type": "code",
   "execution_count": 3,
   "metadata": {},
   "outputs": [],
   "source": [
    "import pandas as pd\n",
    "import matplotlib.pyplot as plt\n",
    "import sys\n",
    "sys.path.append('../')  # Add the parent folder to the Python path\n",
    "\n",
    "from sql_functions import get_dataframe  # Import the function\n",
    "\n",
    "main_cities = [\n",
    "    \"New York, NY\",\n",
    "    \"Boston, MA\",\n",
    "    \"Washington, DC\",\n",
    "    \"Newark, NJ\",\n",
    "]\n",
    "\n",
    "side_cities = [\n",
    "    \"Miami, FL\",\n",
    "    \"Houston, TX\",\n",
    "    \"San Francisco, CA\",\n",
    "    \"Seattle, WA\"\n",
    "]\n"
   ]
  },
  {
   "cell_type": "code",
   "execution_count": 4,
   "metadata": {},
   "outputs": [],
   "source": [
    "flights_2015 = get_dataframe('SELECT * FROM group3.flights_2015')\n",
    "flights_2016 = get_dataframe('SELECT * FROM group3.flights_2016')\n",
    "flights_2017 = get_dataframe('SELECT * FROM group3.flights_2017')"
   ]
  },
  {
   "cell_type": "code",
   "execution_count": null,
   "metadata": {},
   "outputs": [],
   "source": [
    "flights_2016[flights_2016[main]]"
   ]
  }
 ],
 "metadata": {
  "kernelspec": {
   "display_name": "nf_sql",
   "language": "python",
   "name": "python3"
  },
  "language_info": {
   "codemirror_mode": {
    "name": "ipython",
    "version": 3
   },
   "file_extension": ".py",
   "mimetype": "text/x-python",
   "name": "python",
   "nbconvert_exporter": "python",
   "pygments_lexer": "ipython3",
   "version": "3.9.12"
  }
 },
 "nbformat": 4,
 "nbformat_minor": 2
}
