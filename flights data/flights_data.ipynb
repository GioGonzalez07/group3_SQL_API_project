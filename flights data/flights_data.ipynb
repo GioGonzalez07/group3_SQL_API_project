{
 "cells": [
  {
   "cell_type": "code",
   "execution_count": 5,
   "metadata": {},
   "outputs": [],
   "source": [
    "import pandas as pd\n",
    "import matplotlib.pyplot as plt\n",
    "import sys\n",
    "sys.path.append('../')  # Add the parent folder to the Python path\n",
    "\n",
    "from sql_functions import get_dataframe  # Import the function\n"
   ]
  },
  {
   "cell_type": "code",
   "execution_count": 8,
   "metadata": {},
   "outputs": [],
   "source": [
    "flights_2015 = get_dataframe('SELECT * FROM group3.flights_2015')\n",
    "flights_2016 = get_dataframe('SELECT * FROM group3.flights_2016')\n",
    "flights_2017 = get_dataframe('SELECT * FROM group3.flights_2017')"
   ]
  }
 ],
 "metadata": {
  "kernelspec": {
   "display_name": "nf_sql",
   "language": "python",
   "name": "python3"
  },
  "language_info": {
   "codemirror_mode": {
    "name": "ipython",
    "version": 3
   },
   "file_extension": ".py",
   "mimetype": "text/x-python",
   "name": "python",
   "nbconvert_exporter": "python",
   "pygments_lexer": "ipython3",
   "version": "3.9.12"
  }
 },
 "nbformat": 4,
 "nbformat_minor": 2
}
