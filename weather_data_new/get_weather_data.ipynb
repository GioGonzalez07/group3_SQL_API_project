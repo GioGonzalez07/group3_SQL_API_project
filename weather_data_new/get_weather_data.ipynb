{
 "cells": [
  {
   "cell_type": "code",
   "execution_count": 1,
   "metadata": {},
   "outputs": [],
   "source": [
    "import pandas as pd\n",
    "import sys\n",
    "sys.path.append('../')  # Add the parent folder to the Python path\n",
    "\n",
    "from sql_functions import get_weather_data\n",
    "from sql_functions import clean_weather_data\n",
    "from sql_functions import push_to_cloud"
   ]
  },
  {
   "cell_type": "code",
   "execution_count": 2,
   "metadata": {},
   "outputs": [],
   "source": [
    "# Data from January 2014\n",
    "weather_2014 = get_weather_data(['2014-12-01'], ['2014-12-31'])\n",
    "\n",
    "# Data from December, January and February 2015\n",
    "weather_2015 = get_weather_data(['2015-01-01', '2015-12-01'], ['2015-02-28', '2015-12-31'])\n",
    "\n",
    "# Data from the entire year of 2016\n",
    "weather_2016 = get_weather_data(['2016-01-01'], ['2016-12-31'])\n",
    "\n",
    "# Data from January and February 2017\n",
    "weather_2017 = get_weather_data(['2017-01-01'], ['2017-02-28'])"
   ]
  },
  {
   "cell_type": "code",
   "execution_count": 3,
   "metadata": {},
   "outputs": [],
   "source": [
    "# Concat all the years together and clean the data\n",
    "\n",
    "weather_data = pd.concat([weather_2014, weather_2015, weather_2016, weather_2017])\n",
    "weather = clean_weather_data(weather_data)"
   ]
  },
  {
   "cell_type": "code",
   "execution_count": 4,
   "metadata": {},
   "outputs": [
    {
     "name": "stdout",
     "output_type": "stream",
     "text": [
      "The full_weather table was imported successfully.\n",
      "No engine\n"
     ]
    }
   ],
   "source": [
    "# Push the full weather data to the cloud database\n",
    "push_to_cloud(weather, 'full_weather')"
   ]
  }
 ],
 "metadata": {
  "kernelspec": {
   "display_name": "nf_sql",
   "language": "python",
   "name": "python3"
  },
  "language_info": {
   "codemirror_mode": {
    "name": "ipython",
    "version": 3
   },
   "file_extension": ".py",
   "mimetype": "text/x-python",
   "name": "python",
   "nbconvert_exporter": "python",
   "pygments_lexer": "ipython3",
   "version": "3.9.12"
  }
 },
 "nbformat": 4,
 "nbformat_minor": 2
}
